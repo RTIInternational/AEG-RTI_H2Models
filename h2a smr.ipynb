{
 "cells": [
  {
   "cell_type": "code",
   "execution_count": 31,
   "id": "8e513d80",
   "metadata": {},
   "outputs": [],
   "source": [
    "import json\n",
    "import formulas\n",
    "from openpyxl import load_workbook"
   ]
  },
  {
   "cell_type": "code",
   "execution_count": 2,
   "id": "53e9f661",
   "metadata": {},
   "outputs": [
    {
     "name": "stderr",
     "output_type": "stream",
     "text": [
      "/Users/rruizesparza/.local/share/virtualenvs/h2a-Q9QHEO75/lib/python3.11/site-packages/openpyxl/reader/drawings.py:29: UserWarning: DrawingML support is incomplete and limited to charts and images only. Shapes and drawings will be lost.\n",
      "  warn(\"DrawingML support is incomplete and limited to charts and images only. Shapes and drawings will be lost.\")\n",
      "/Users/rruizesparza/.local/share/virtualenvs/h2a-Q9QHEO75/lib/python3.11/site-packages/openpyxl/worksheet/_reader.py:329: UserWarning: Conditional Formatting extension is not supported and will be removed\n",
      "  warn(msg)\n",
      "/Users/rruizesparza/.local/share/virtualenvs/h2a-Q9QHEO75/lib/python3.11/site-packages/openpyxl/worksheet/_reader.py:329: UserWarning: Data Validation extension is not supported and will be removed\n",
      "  warn(msg)\n"
     ]
    }
   ],
   "source": [
    "wb = load_workbook(filename = 'current-central-steam-methane-reforming-without-co2-sequestration-version-aug22.xlsm')"
   ]
  },
  {
   "cell_type": "code",
   "execution_count": 3,
   "id": "c994d219",
   "metadata": {},
   "outputs": [
    {
     "data": {
      "text/plain": [
       "'Central Hydrogen Production - Project Information'"
      ]
     },
     "execution_count": 3,
     "metadata": {},
     "output_type": "execute_result"
    }
   ],
   "source": [
    "wb[\"Title\"][\"B2\"].value"
   ]
  },
  {
   "cell_type": "code",
   "execution_count": 4,
   "id": "11ada98b",
   "metadata": {},
   "outputs": [],
   "source": [
    "ws = wb.active"
   ]
  },
  {
   "cell_type": "code",
   "execution_count": 5,
   "id": "482762ee",
   "metadata": {},
   "outputs": [
    {
     "data": {
      "text/plain": [
       "'Input_Sheet_Template'"
      ]
     },
     "execution_count": 5,
     "metadata": {},
     "output_type": "execute_result"
    }
   ],
   "source": [
    "ws.title"
   ]
  },
  {
   "cell_type": "code",
   "execution_count": 6,
   "id": "b9268baa",
   "metadata": {},
   "outputs": [
    {
     "data": {
      "text/plain": [
       "333"
      ]
     },
     "execution_count": 6,
     "metadata": {},
     "output_type": "execute_result"
    }
   ],
   "source": [
    "len(wb.defined_names.keys())"
   ]
  },
  {
   "cell_type": "code",
   "execution_count": 7,
   "id": "a63dca07",
   "metadata": {},
   "outputs": [
    {
     "data": {
      "text/plain": [
       "'Input_Sheet_Template!$C$27'"
      ]
     },
     "execution_count": 7,
     "metadata": {},
     "output_type": "execute_result"
    }
   ],
   "source": [
    "wb.defined_names[\"output_kgpday\"].value"
   ]
  },
  {
   "cell_type": "code",
   "execution_count": 8,
   "id": "264d93ad",
   "metadata": {},
   "outputs": [],
   "source": [
    "sheet, cell = wb.defined_names[\"output_kgpday\"].value.split(\"!\")"
   ]
  },
  {
   "cell_type": "code",
   "execution_count": 9,
   "id": "d0a611ae",
   "metadata": {},
   "outputs": [
    {
     "data": {
      "text/plain": [
       "'=design_cap*cap_factor'"
      ]
     },
     "execution_count": 9,
     "metadata": {},
     "output_type": "execute_result"
    }
   ],
   "source": [
    "wb[sheet][cell].value"
   ]
  },
  {
   "cell_type": "code",
   "execution_count": 23,
   "id": "8bf037c6",
   "metadata": {},
   "outputs": [],
   "source": [
    "def fmt(val, sheet=\"\"):\n",
    "    return {\n",
    "        \"sheet\": sheet,\n",
    "        \"data\": val\n",
    "    }\n",
    "    \n",
    "def lookup(name):\n",
    "    raw_coord = wb.defined_names[name].value\n",
    "    parts = raw_coord.split(\"!\")\n",
    "    if(len(parts) != 2):\n",
    "        return fmt(raw_coord)\n",
    "    sheet, cell = parts\n",
    "    \n",
    "    # Handle sheet names wrapped with quotes\n",
    "    if sheet.startswith(\"'\") and sheet.endswith(\"'\"):\n",
    "        sheet = sheet[1:-1]\n",
    "\n",
    "    # Handle ranges\n",
    "    if \":\" in cell:\n",
    "        start, end = cell.split(\":\")\n",
    "        series = wb[sheet][start : end]\n",
    "        values = [cell[0].value for cell in series]\n",
    "        return fmt(values, sheet)\n",
    "    \n",
    "    # Single cell values\n",
    "    return fmt(wb[sheet][cell].value, sheet)"
   ]
  },
  {
   "cell_type": "code",
   "execution_count": 11,
   "id": "d65e3cbf",
   "metadata": {},
   "outputs": [
    {
     "name": "stdout",
     "output_type": "stream",
     "text": [
      "   Input_Sheet_Template!$C$26\n"
     ]
    },
    {
     "data": {
      "text/plain": [
       "'=ProcessFlow!V12*sensitivity_02'"
      ]
     },
     "execution_count": 11,
     "metadata": {},
     "output_type": "execute_result"
    }
   ],
   "source": [
    "lookup(\"design_cap\")"
   ]
  },
  {
   "cell_type": "code",
   "execution_count": 12,
   "id": "d2786a23",
   "metadata": {},
   "outputs": [
    {
     "name": "stdout",
     "output_type": "stream",
     "text": [
      "   'Tornado Charts & Risk Analysis'!$D$48\n"
     ]
    },
    {
     "data": {
      "text/plain": [
       "'=+OFFSET(D50,$B$48,0)'"
      ]
     },
     "execution_count": 12,
     "metadata": {},
     "output_type": "execute_result"
    }
   ],
   "source": [
    "lookup(\"sensitivity_02\")"
   ]
  },
  {
   "cell_type": "code",
   "execution_count": 35,
   "id": "871aa01a",
   "metadata": {
    "scrolled": true
   },
   "outputs": [],
   "source": [
    "names_dict = {}\n",
    "flat_name_dict = {}\n",
    "for name in wb.defined_names:\n",
    "    term = lookup(name)\n",
    "    flat_name_dict[name] = term[\"data\"]\n",
    "    names_dict.setdefault(term[\"sheet\"], []).append({ name: term[\"data\"] })\n",
    "\n",
    "with open('names.json', 'w', encoding='utf-8') as f:\n",
    "    json.dump(names_dict, f, ensure_ascii=False, indent=4)"
   ]
  },
  {
   "cell_type": "code",
   "execution_count": 41,
   "id": "a691a440",
   "metadata": {},
   "outputs": [
    {
     "data": {
      "text/plain": [
       "[50000, '=CPIinflator']"
      ]
     },
     "execution_count": 41,
     "metadata": {},
     "output_type": "execute_result"
    }
   ],
   "source": [
    "func = formulas.Parser().ast(flat_name_dict[\"acre_cost\"])[1].compile()\n",
    "resolved_inputs = []\n",
    "for cell in list(func.inputs):\n",
    "    resolved_inputs.append(wb[\"Input_Sheet_Template\"][cell].value)\n",
    "resolved_inputs"
   ]
  }
 ],
 "metadata": {
  "kernelspec": {
   "display_name": "Python 3 (ipykernel)",
   "language": "python",
   "name": "python3"
  },
  "language_info": {
   "codemirror_mode": {
    "name": "ipython",
    "version": 3
   },
   "file_extension": ".py",
   "mimetype": "text/x-python",
   "name": "python",
   "nbconvert_exporter": "python",
   "pygments_lexer": "ipython3",
   "version": "3.11.0"
  }
 },
 "nbformat": 4,
 "nbformat_minor": 5
}
