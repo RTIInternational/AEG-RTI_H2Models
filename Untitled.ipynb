{
 "cells": [
  {
   "cell_type": "code",
   "execution_count": 2,
   "id": "609806bf",
   "metadata": {},
   "outputs": [],
   "source": [
    "from openpyxl import load_workbook"
   ]
  },
  {
   "cell_type": "code",
   "execution_count": 4,
   "id": "24f5d1c6",
   "metadata": {},
   "outputs": [],
   "source": [
    "wb = load_workbook(filename = 'current-central-steam-methane-reforming-without-co2-sequestration-version-aug22.xlsm')"
   ]
  },
  {
   "cell_type": "code",
   "execution_count": 6,
   "id": "e04930db",
   "metadata": {},
   "outputs": [
    {
     "data": {
      "text/plain": [
       "'Central Hydrogen Production - Project Information'"
      ]
     },
     "execution_count": 6,
     "metadata": {},
     "output_type": "execute_result"
    }
   ],
   "source": [
    "wb[\"Title\"][\"B2\"].value"
   ]
  },
  {
   "cell_type": "code",
   "execution_count": 8,
   "id": "45234439",
   "metadata": {},
   "outputs": [],
   "source": [
    "ws = wb.active"
   ]
  },
  {
   "cell_type": "code",
   "execution_count": 9,
   "id": "a1fc6ad7",
   "metadata": {},
   "outputs": [
    {
     "data": {
      "text/plain": [
       "'Input_Sheet_Template'"
      ]
     },
     "execution_count": 9,
     "metadata": {},
     "output_type": "execute_result"
    }
   ],
   "source": [
    "ws.title"
   ]
  },
  {
   "cell_type": "code",
   "execution_count": 30,
   "id": "4f8ea6d6",
   "metadata": {},
   "outputs": [
    {
     "data": {
      "text/plain": [
       "333"
      ]
     },
     "execution_count": 30,
     "metadata": {},
     "output_type": "execute_result"
    }
   ],
   "source": [
    "len(wb.defined_names.keys())"
   ]
  },
  {
   "cell_type": "code",
   "execution_count": 32,
   "id": "4bfd20a5",
   "metadata": {},
   "outputs": [
    {
     "data": {
      "text/plain": [
       "'Input_Sheet_Template!$C$27'"
      ]
     },
     "execution_count": 32,
     "metadata": {},
     "output_type": "execute_result"
    }
   ],
   "source": [
    "wb.defined_names[\"output_kgpday\"].value"
   ]
  },
  {
   "cell_type": "code",
   "execution_count": 36,
   "id": "e493c0b8",
   "metadata": {},
   "outputs": [],
   "source": [
    "sheet, cell = wb.defined_names[\"output_kgpday\"].value.split(\"!\")"
   ]
  },
  {
   "cell_type": "code",
   "execution_count": 40,
   "id": "775a9d4b",
   "metadata": {},
   "outputs": [
    {
     "data": {
      "text/plain": [
       "'=design_cap*cap_factor'"
      ]
     },
     "execution_count": 40,
     "metadata": {},
     "output_type": "execute_result"
    }
   ],
   "source": [
    "wb[sheet][cell].value"
   ]
  },
  {
   "cell_type": "code",
   "execution_count": 41,
   "id": "ae16a72d",
   "metadata": {},
   "outputs": [],
   "source": [
    "def lookup(name):\n",
    "    raw_coord = wb.defined_names[name].value\n",
    "    sheet, cell = raw_coord.split(\"!\")\n",
    "    return wb[sheet][cell].value"
   ]
  },
  {
   "cell_type": "code",
   "execution_count": 43,
   "id": "61ae35e7",
   "metadata": {},
   "outputs": [
    {
     "data": {
      "text/plain": [
       "'=design_cap*cap_factor'"
      ]
     },
     "execution_count": 43,
     "metadata": {},
     "output_type": "execute_result"
    }
   ],
   "source": [
    "lookup(\"output_kgpday\")"
   ]
  },
  {
   "cell_type": "code",
   "execution_count": 44,
   "id": "b250b5f7",
   "metadata": {},
   "outputs": [
    {
     "data": {
      "text/plain": [
       "'=ProcessFlow!V12*sensitivity_02'"
      ]
     },
     "execution_count": 44,
     "metadata": {},
     "output_type": "execute_result"
    }
   ],
   "source": [
    "lookup(\"design_cap\")"
   ]
  },
  {
   "cell_type": "code",
   "execution_count": 50,
   "id": "3003557e",
   "metadata": {},
   "outputs": [
    {
     "ename": "KeyError",
     "evalue": "\"Worksheet 'Tornado Charts & Risk Analysis' does not exist.\"",
     "output_type": "error",
     "traceback": [
      "\u001b[0;31m---------------------------------------------------------------------------\u001b[0m",
      "\u001b[0;31mKeyError\u001b[0m                                  Traceback (most recent call last)",
      "Cell \u001b[0;32mIn[50], line 1\u001b[0m\n\u001b[0;32m----> 1\u001b[0m \u001b[43mlookup\u001b[49m\u001b[43m(\u001b[49m\u001b[38;5;124;43m\"\u001b[39;49m\u001b[38;5;124;43msensitivity_02\u001b[39;49m\u001b[38;5;124;43m\"\u001b[39;49m\u001b[43m)\u001b[49m\n",
      "Cell \u001b[0;32mIn[41], line 4\u001b[0m, in \u001b[0;36mlookup\u001b[0;34m(name)\u001b[0m\n\u001b[1;32m      2\u001b[0m raw_coord \u001b[38;5;241m=\u001b[39m wb\u001b[38;5;241m.\u001b[39mdefined_names[name]\u001b[38;5;241m.\u001b[39mvalue\n\u001b[1;32m      3\u001b[0m sheet, cell \u001b[38;5;241m=\u001b[39m raw_coord\u001b[38;5;241m.\u001b[39msplit(\u001b[38;5;124m\"\u001b[39m\u001b[38;5;124m!\u001b[39m\u001b[38;5;124m\"\u001b[39m)\n\u001b[0;32m----> 4\u001b[0m \u001b[38;5;28;01mreturn\u001b[39;00m \u001b[43mwb\u001b[49m\u001b[43m[\u001b[49m\u001b[43msheet\u001b[49m\u001b[43m]\u001b[49m[cell]\u001b[38;5;241m.\u001b[39mvalue\n",
      "File \u001b[0;32m~/.local/share/virtualenvs/h2a-Q9QHEO75/lib/python3.11/site-packages/openpyxl/workbook/workbook.py:287\u001b[0m, in \u001b[0;36mWorkbook.__getitem__\u001b[0;34m(self, key)\u001b[0m\n\u001b[1;32m    285\u001b[0m     \u001b[38;5;28;01mif\u001b[39;00m sheet\u001b[38;5;241m.\u001b[39mtitle \u001b[38;5;241m==\u001b[39m key:\n\u001b[1;32m    286\u001b[0m         \u001b[38;5;28;01mreturn\u001b[39;00m sheet\n\u001b[0;32m--> 287\u001b[0m \u001b[38;5;28;01mraise\u001b[39;00m \u001b[38;5;167;01mKeyError\u001b[39;00m(\u001b[38;5;124m\"\u001b[39m\u001b[38;5;124mWorksheet \u001b[39m\u001b[38;5;132;01m{0}\u001b[39;00m\u001b[38;5;124m does not exist.\u001b[39m\u001b[38;5;124m\"\u001b[39m\u001b[38;5;241m.\u001b[39mformat(key))\n",
      "\u001b[0;31mKeyError\u001b[0m: \"Worksheet 'Tornado Charts & Risk Analysis' does not exist.\""
     ]
    }
   ],
   "source": [
    "lookup(\"sensitivity_02\")"
   ]
  },
  {
   "cell_type": "code",
   "execution_count": 47,
   "id": "04d29dc7",
   "metadata": {},
   "outputs": [
    {
     "data": {
      "text/plain": [
       "<Worksheet \"Tornado Charts & Risk Analysis\">"
      ]
     },
     "execution_count": 47,
     "metadata": {},
     "output_type": "execute_result"
    }
   ],
   "source": [
    "wb['Tornado Charts & Risk Analysis']"
   ]
  },
  {
   "cell_type": "code",
   "execution_count": 51,
   "id": "daf00bad",
   "metadata": {},
   "outputs": [],
   "source": [
    "raw = wb.defined_names[\"sensitivity_02\"].value"
   ]
  },
  {
   "cell_type": "code",
   "execution_count": 52,
   "id": "f2ab19a8",
   "metadata": {},
   "outputs": [],
   "source": [
    "sheet, cell = raw.split(\"!\")"
   ]
  },
  {
   "cell_type": "code",
   "execution_count": 63,
   "id": "3242acab",
   "metadata": {},
   "outputs": [
    {
     "data": {
      "text/plain": [
       "'=+OFFSET(D50,$B$48,0)'"
      ]
     },
     "execution_count": 63,
     "metadata": {},
     "output_type": "execute_result"
    }
   ],
   "source": [
    "wb[wb.sheetnames[9]][cell].value"
   ]
  },
  {
   "cell_type": "code",
   "execution_count": 69,
   "id": "7525dbe2",
   "metadata": {},
   "outputs": [],
   "source": [
    "def first_true(iterable, default=False, pred=None):\n",
    "    \"\"\"Returns the first true value in the iterable.\n",
    "\n",
    "    If no true value is found, returns *default*\n",
    "\n",
    "    If *pred* is not None, returns the first item\n",
    "    for which pred(item) is true.\n",
    "\n",
    "    \"\"\"\n",
    "    # first_true([a,b,c], x) --> a or b or c or x\n",
    "    # first_true([a,b], x, f) --> a if f(a) else b if f(b) else x\n",
    "    return next(filter(pred, iterable), default)\n"
   ]
  },
  {
   "cell_type": "code",
   "execution_count": 73,
   "id": "b7b4ea98",
   "metadata": {},
   "outputs": [
    {
     "name": "stdout",
     "output_type": "stream",
     "text": [
      "None\n",
      "'Tornado Charts & Risk Analysis'\n"
     ]
    }
   ],
   "source": [
    "print(first_true(wb.sheetnames, None, lambda x: x==sheet))\n",
    "print(sheet)"
   ]
  },
  {
   "cell_type": "code",
   "execution_count": null,
   "id": "8a36bdc0",
   "metadata": {},
   "outputs": [],
   "source": []
  }
 ],
 "metadata": {
  "kernelspec": {
   "display_name": "Python 3 (ipykernel)",
   "language": "python",
   "name": "python3"
  },
  "language_info": {
   "codemirror_mode": {
    "name": "ipython",
    "version": 3
   },
   "file_extension": ".py",
   "mimetype": "text/x-python",
   "name": "python",
   "nbconvert_exporter": "python",
   "pygments_lexer": "ipython3",
   "version": "3.11.0"
  }
 },
 "nbformat": 4,
 "nbformat_minor": 5
}
